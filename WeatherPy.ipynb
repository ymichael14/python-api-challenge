{
 "cells": [
  {
   "cell_type": "markdown",
   "metadata": {},
   "source": [
    "# WeatherPy\n",
    "----\n",
    "\n",
    "#### Note\n",
    "* Instructions have been included for each segment. You do not have to follow them exactly, but they are included to help you think through the steps."
   ]
  },
  {
   "cell_type": "code",
   "execution_count": 128,
   "metadata": {
    "scrolled": true
   },
   "outputs": [],
   "source": [
    "# Dependencies and Setup\n",
    "import matplotlib.pyplot as plt\n",
    "import pandas as pd\n",
    "import numpy as np\n",
    "import requests\n",
    "import time\n",
    "import datetime as dt\n",
    "from scipy.stats import linregress\n",
    "\n",
    "# Import API key\n",
    "from api_keys import weather_api_key\n",
    "\n",
    "# Incorporated citipy to determine city based on latitude and longitude\n",
    "from citipy import citipy\n",
    "\n",
    "# Output File (CSV)\n",
    "output_data_file = \"output_data/cities.csv\"\n",
    "\n",
    "# Range of latitudes and longitudes\n",
    "lat_range = (-90, 90)\n",
    "lng_range = (-180, 180)"
   ]
  },
  {
   "cell_type": "code",
   "execution_count": 130,
   "metadata": {},
   "outputs": [],
   "source": [
    "# Save config information\n",
    "url = \"http://api.openweathermap.org/data/2.5/weather?\"\n",
    "#city2 = \"London\"\n",
    "\n",
    "# Build query URL\n",
    "#query_url = url + \"appid=\" + weather_api_key + \"&q=\" +\\\n",
    "#query_url = f\"{url}appid={weather_api_key}&q={city}&units=imperial\""
   ]
  },
  {
   "cell_type": "markdown",
   "metadata": {},
   "source": [
    "## Generate Cities List"
   ]
  },
  {
   "cell_type": "code",
   "execution_count": 131,
   "metadata": {},
   "outputs": [
    {
     "data": {
      "text/plain": [
       "594"
      ]
     },
     "execution_count": 131,
     "metadata": {},
     "output_type": "execute_result"
    }
   ],
   "source": [
    "# List for holding lat_lngs and cities\n",
    "lat_lngs = []\n",
    "cities = []\n",
    "\n",
    "# Create a set of random lat and lng combinations\n",
    "lats = np.random.uniform(lat_range[0], lat_range[1], size=1500)\n",
    "lngs = np.random.uniform(lng_range[0], lng_range[1], size=1500)\n",
    "lat_lngs = zip(lats, lngs)\n",
    "\n",
    "# Identify nearest city for each lat, lng combination\n",
    "for lat_lng in lat_lngs:\n",
    "    city = citipy.nearest_city(lat_lng[0], lat_lng[1]).city_name\n",
    "    \n",
    "    # If the city is unique, then add it to a our cities list\n",
    "    if city not in cities:\n",
    "        cities.append(city)\n",
    "\n",
    "# Print the city count to confirm sufficient count\n",
    "len(cities)"
   ]
  },
  {
   "cell_type": "markdown",
   "metadata": {},
   "source": [
    "### Perform API Calls\n",
    "* Perform a weather check on each city using a series of successive API calls.\n",
    "* Include a print log of each city as it'sbeing processed (with the city number and city name).\n"
   ]
  },
  {
   "cell_type": "code",
   "execution_count": 132,
   "metadata": {},
   "outputs": [
    {
     "name": "stdout",
     "output_type": "stream",
     "text": [
      "Beginning Data Retrieval\n",
      "-----------------------------\n",
      "Processing record 1 of set 1 | vaini\n",
      "Processing record 2 of set 1 | xuanhua\n",
      "Processing record 3 of set 1 | plainview\n",
      "Processing record 4 of set 1 | kapaa\n",
      "Processing record 5 of set 1 | busselton\n",
      "Processing record 6 of set 1 | port alfred\n",
      "Processing record 7 of set 1 | aberlour\n",
      "City not found.  Skipping...\n",
      "Processing record 8 of set 1 | ambulu\n",
      "Processing record 9 of set 1 | carnarvon\n",
      "Processing record 10 of set 1 | bengkulu\n",
      "Processing record 11 of set 1 | punta arenas\n",
      "Processing record 12 of set 1 | cape town\n",
      "Processing record 13 of set 1 | tumannyy\n",
      "City not found.  Skipping...\n",
      "Processing record 14 of set 1 | hilo\n",
      "Processing record 15 of set 1 | chuy\n",
      "Processing record 16 of set 1 | yanan\n",
      "City not found.  Skipping...\n",
      "Processing record 17 of set 1 | kaitangata\n",
      "Processing record 18 of set 1 | georgetown\n",
      "Processing record 19 of set 1 | dikson\n",
      "Processing record 20 of set 1 | beringovskiy\n",
      "Processing record 21 of set 1 | brae\n",
      "Processing record 22 of set 1 | konevo\n",
      "Processing record 23 of set 1 | narsaq\n",
      "Processing record 24 of set 1 | rawannawi\n",
      "City not found.  Skipping...\n",
      "Processing record 25 of set 1 | mataura\n",
      "Processing record 26 of set 1 | hualmay\n",
      "Processing record 27 of set 1 | monchegorsk\n",
      "Processing record 28 of set 1 | tapalpa\n",
      "Processing record 29 of set 1 | vardo\n",
      "Processing record 30 of set 1 | ushuaia\n",
      "Processing record 31 of set 1 | tuktoyaktuk\n",
      "Processing record 32 of set 1 | rikitea\n",
      "Processing record 33 of set 1 | barrow\n",
      "Processing record 34 of set 1 | butaritari\n",
      "Processing record 35 of set 1 | saleaula\n",
      "City not found.  Skipping...\n",
      "Processing record 36 of set 1 | saint-philippe\n",
      "Processing record 37 of set 1 | saskylakh\n",
      "Processing record 38 of set 1 | valparaiso\n",
      "Processing record 39 of set 1 | hobart\n",
      "Processing record 40 of set 1 | hami\n",
      "Processing record 41 of set 1 | petawawa\n",
      "Processing record 42 of set 1 | bluff\n",
      "Processing record 43 of set 1 | hithadhoo\n",
      "Processing record 44 of set 1 | ostrovnoy\n",
      "Processing record 45 of set 1 | kuryk\n",
      "Processing record 46 of set 1 | khatanga\n",
      "Processing record 47 of set 1 | camalu\n",
      "Processing record 48 of set 1 | albany\n",
      "Processing record 49 of set 1 | leningradskiy\n",
      "Processing record 50 of set 1 | vestmanna\n",
      "Processing record 1 of set 2 | illoqqortoormiut\n",
      "City not found.  Skipping...\n",
      "Processing record 2 of set 2 | presque isle\n",
      "Processing record 3 of set 2 | hermanus\n",
      "Processing record 4 of set 2 | atuona\n",
      "Processing record 5 of set 2 | coolum beach\n",
      "Processing record 6 of set 2 | lebedinyy\n",
      "Processing record 7 of set 2 | jesus maria\n",
      "Processing record 8 of set 2 | turukhansk\n",
      "Processing record 9 of set 2 | san cristobal\n",
      "Processing record 10 of set 2 | victoria\n",
      "Processing record 11 of set 2 | barentsburg\n",
      "City not found.  Skipping...\n",
      "Processing record 12 of set 2 | daru\n",
      "Processing record 13 of set 2 | acapulco\n",
      "Processing record 14 of set 2 | puerto ayora\n",
      "Processing record 15 of set 2 | marsa matruh\n",
      "Processing record 16 of set 2 | ponta delgada\n",
      "Processing record 17 of set 2 | chokurdakh\n",
      "Processing record 18 of set 2 | sitka\n",
      "Processing record 19 of set 2 | sim\n",
      "Processing record 20 of set 2 | vao\n",
      "Processing record 21 of set 2 | lompoc\n",
      "Processing record 22 of set 2 | nikolskoye\n",
      "Processing record 23 of set 2 | chumikan\n",
      "Processing record 24 of set 2 | kavieng\n",
      "Processing record 25 of set 2 | hambantota\n",
      "Processing record 26 of set 2 | brookings\n",
      "Processing record 27 of set 2 | kotelnich\n",
      "Processing record 28 of set 2 | lebu\n",
      "Processing record 29 of set 2 | port-gentil\n",
      "Processing record 30 of set 2 | east london\n",
      "Processing record 31 of set 2 | zhanatas\n",
      "City not found.  Skipping...\n",
      "Processing record 32 of set 2 | kashi\n",
      "Processing record 33 of set 2 | taksimo\n",
      "Processing record 34 of set 2 | thompson\n",
      "Processing record 35 of set 2 | la ronge\n",
      "Processing record 36 of set 2 | george\n",
      "Processing record 37 of set 2 | ribeira grande\n",
      "Processing record 38 of set 2 | samana\n",
      "Processing record 39 of set 2 | havre\n",
      "Processing record 40 of set 2 | grand river south east\n",
      "City not found.  Skipping...\n",
      "Processing record 41 of set 2 | kapoeta\n",
      "Processing record 42 of set 2 | santa cruz\n",
      "Processing record 43 of set 2 | ilo\n",
      "Processing record 44 of set 2 | mahemdavad\n",
      "Processing record 45 of set 2 | kodiak\n",
      "Processing record 46 of set 2 | mys shmidta\n",
      "City not found.  Skipping...\n",
      "Processing record 47 of set 2 | zabaykalsk\n",
      "Processing record 48 of set 2 | esperance\n",
      "Processing record 49 of set 2 | wanning\n",
      "Processing record 50 of set 2 | santa ines\n",
      "Processing record 1 of set 3 | petropavlovsk-kamchatskiy\n",
      "Processing record 2 of set 3 | bambous virieux\n",
      "Processing record 3 of set 3 | zeya\n",
      "Processing record 4 of set 3 | bredasdorp\n",
      "Processing record 5 of set 3 | tsubata\n",
      "Processing record 6 of set 3 | jamestown\n",
      "Processing record 7 of set 3 | ponta do sol\n",
      "Processing record 8 of set 3 | bose\n",
      "Processing record 9 of set 3 | lasa\n",
      "Processing record 10 of set 3 | ji-parana\n",
      "City not found.  Skipping...\n",
      "Processing record 11 of set 3 | rio gallegos\n",
      "Processing record 12 of set 3 | attawapiskat\n",
      "City not found.  Skipping...\n",
      "Processing record 13 of set 3 | yellowknife\n",
      "Processing record 14 of set 3 | sabang\n",
      "Processing record 15 of set 3 | tokur\n",
      "Processing record 16 of set 3 | palmer\n",
      "Processing record 17 of set 3 | tasiilaq\n",
      "Processing record 18 of set 3 | saint george\n",
      "Processing record 19 of set 3 | port elizabeth\n",
      "Processing record 20 of set 3 | new norfolk\n",
      "Processing record 21 of set 3 | cherskiy\n",
      "Processing record 22 of set 3 | laguna\n",
      "Processing record 23 of set 3 | caravelas\n",
      "Processing record 24 of set 3 | norman wells\n",
      "Processing record 25 of set 3 | castro\n",
      "Processing record 26 of set 3 | mnogovershinnyy\n",
      "Processing record 27 of set 3 | avarua\n",
      "Processing record 28 of set 3 | taolanaro\n",
      "City not found.  Skipping...\n",
      "Processing record 29 of set 3 | salalah\n",
      "Processing record 30 of set 3 | isangel\n",
      "Processing record 31 of set 3 | pevek\n",
      "Processing record 32 of set 3 | faya\n",
      "Processing record 33 of set 3 | talnakh\n",
      "Processing record 34 of set 3 | bay-khaak\n",
      "Processing record 35 of set 3 | holme\n",
      "Processing record 36 of set 3 | barbar\n",
      "City not found.  Skipping...\n",
      "Processing record 37 of set 3 | carutapera\n",
      "Processing record 38 of set 3 | luderitz\n",
      "Processing record 39 of set 3 | chkalovskoye\n",
      "Processing record 40 of set 3 | orizatlan\n",
      "Processing record 41 of set 3 | kuche\n",
      "City not found.  Skipping...\n",
      "Processing record 42 of set 3 | biak\n",
      "Processing record 43 of set 3 | buarcos\n",
      "Processing record 44 of set 3 | maxixe\n",
      "Processing record 45 of set 3 | arraial do cabo\n",
      "Processing record 46 of set 3 | sao filipe\n",
      "Processing record 47 of set 3 | peniche\n",
      "Processing record 48 of set 3 | otjimbingwe\n",
      "Processing record 49 of set 3 | khorixas\n",
      "Processing record 50 of set 3 | ayagoz\n",
      "Processing record 1 of set 4 | gamba\n",
      "Processing record 2 of set 4 | emerald\n",
      "Processing record 3 of set 4 | keetmanshoop\n",
      "Processing record 4 of set 4 | baykit\n",
      "Processing record 5 of set 4 | port blair\n",
      "Processing record 6 of set 4 | nome\n",
      "Processing record 7 of set 4 | inuvik\n",
      "Processing record 8 of set 4 | tsihombe\n",
      "City not found.  Skipping...\n",
      "Processing record 9 of set 4 | codrington\n",
      "Processing record 10 of set 4 | abonnema\n",
      "Processing record 11 of set 4 | tuatapere\n",
      "Processing record 12 of set 4 | qaqortoq\n",
      "Processing record 13 of set 4 | dukat\n",
      "Processing record 14 of set 4 | rawson\n",
      "Processing record 15 of set 4 | zella-mehlis\n",
      "Processing record 16 of set 4 | san rafael del sur\n",
      "Processing record 17 of set 4 | katsuura\n",
      "Processing record 18 of set 4 | sumbe\n",
      "Processing record 19 of set 4 | sheridan\n",
      "Processing record 20 of set 4 | nouadhibou\n",
      "Processing record 21 of set 4 | qaanaaq\n",
      "Processing record 22 of set 4 | keflavik\n",
      "Processing record 23 of set 4 | alofi\n",
      "Processing record 24 of set 4 | nishihara\n",
      "Processing record 25 of set 4 | itarema\n",
      "Processing record 26 of set 4 | klaksvik\n",
      "Processing record 27 of set 4 | coahuayana\n",
      "Processing record 28 of set 4 | abbeville\n",
      "Processing record 29 of set 4 | aksu\n",
      "Processing record 30 of set 4 | kloulklubed\n",
      "Processing record 31 of set 4 | quang ngai\n",
      "Processing record 32 of set 4 | pamanukan\n",
      "Processing record 33 of set 4 | fatehpur\n",
      "Processing record 34 of set 4 | nizhneyansk\n",
      "City not found.  Skipping...\n",
      "Processing record 35 of set 4 | severo-kurilsk\n",
      "Processing record 36 of set 4 | tiksi\n"
     ]
    },
    {
     "name": "stdout",
     "output_type": "stream",
     "text": [
      "Processing record 37 of set 4 | cidreira\n",
      "Processing record 38 of set 4 | tokmak\n",
      "Processing record 39 of set 4 | sindou\n",
      "Processing record 40 of set 4 | toliary\n",
      "City not found.  Skipping...\n",
      "Processing record 41 of set 4 | juneau\n",
      "Processing record 42 of set 4 | douentza\n",
      "Processing record 43 of set 4 | zambezi\n",
      "Processing record 44 of set 4 | mitsamiouli\n",
      "Processing record 45 of set 4 | olafsvik\n",
      "Processing record 46 of set 4 | antofagasta\n",
      "Processing record 47 of set 4 | shimoda\n",
      "Processing record 48 of set 4 | gushikawa\n",
      "Processing record 49 of set 4 | umzimvubu\n",
      "City not found.  Skipping...\n",
      "Processing record 50 of set 4 | vanavara\n",
      "Processing record 1 of set 5 | pangai\n",
      "Processing record 2 of set 5 | miyako\n",
      "Processing record 3 of set 5 | ginda\n",
      "Processing record 4 of set 5 | yulara\n",
      "Processing record 5 of set 5 | mahebourg\n",
      "Processing record 6 of set 5 | maningrida\n",
      "Processing record 7 of set 5 | majene\n",
      "Processing record 8 of set 5 | tornio\n",
      "Processing record 9 of set 5 | milkovo\n",
      "Processing record 10 of set 5 | monte carmelo\n",
      "Processing record 11 of set 5 | bethel\n",
      "Processing record 12 of set 5 | felidhoo\n",
      "City not found.  Skipping...\n",
      "Processing record 13 of set 5 | sonamura\n",
      "Processing record 14 of set 5 | prince rupert\n",
      "Processing record 15 of set 5 | jiaojiang\n",
      "Processing record 16 of set 5 | nemuro\n",
      "Processing record 17 of set 5 | ormara\n",
      "Processing record 18 of set 5 | zaraza\n",
      "Processing record 19 of set 5 | cabo san lucas\n",
      "Processing record 20 of set 5 | rio muerto\n",
      "Processing record 21 of set 5 | camocim\n",
      "Processing record 22 of set 5 | sentyabrskiy\n",
      "City not found.  Skipping...\n",
      "Processing record 23 of set 5 | murdochville\n",
      "Processing record 24 of set 5 | la rioja\n",
      "Processing record 25 of set 5 | nanortalik\n",
      "Processing record 26 of set 5 | zakamensk\n",
      "Processing record 27 of set 5 | goshen\n",
      "Processing record 28 of set 5 | komsomolskiy\n",
      "Processing record 29 of set 5 | sultanpur\n",
      "Processing record 30 of set 5 | nioro\n",
      "Processing record 31 of set 5 | west wendover\n",
      "Processing record 32 of set 5 | kashary\n",
      "Processing record 33 of set 5 | ancud\n",
      "Processing record 34 of set 5 | parry sound\n",
      "Processing record 35 of set 5 | vanimo\n",
      "Processing record 36 of set 5 | sisimiut\n",
      "Processing record 37 of set 5 | mar del plata\n",
      "Processing record 38 of set 5 | qingquan\n",
      "Processing record 39 of set 5 | la palma\n",
      "Processing record 40 of set 5 | kstovo\n",
      "Processing record 41 of set 5 | inirida\n",
      "Processing record 42 of set 5 | rock springs\n",
      "Processing record 43 of set 5 | hofn\n",
      "Processing record 44 of set 5 | aban\n",
      "Processing record 45 of set 5 | broken hill\n",
      "Processing record 46 of set 5 | college\n",
      "Processing record 47 of set 5 | asau\n",
      "Processing record 48 of set 5 | airai\n",
      "Processing record 49 of set 5 | ngukurr\n",
      "City not found.  Skipping...\n",
      "Processing record 50 of set 5 | zaysan\n",
      "Processing record 1 of set 6 | provideniya\n",
      "Processing record 2 of set 6 | ambilobe\n",
      "Processing record 3 of set 6 | bolungarvik\n",
      "City not found.  Skipping...\n",
      "Processing record 4 of set 6 | batemans bay\n",
      "Processing record 5 of set 6 | tual\n",
      "Processing record 6 of set 6 | bilma\n",
      "Processing record 7 of set 6 | okato\n",
      "Processing record 8 of set 6 | emba\n",
      "Processing record 9 of set 6 | hatta\n",
      "Processing record 10 of set 6 | kisaran\n",
      "Processing record 11 of set 6 | naron\n",
      "Processing record 12 of set 6 | pilar\n",
      "Processing record 13 of set 6 | vaitupu\n",
      "City not found.  Skipping...\n",
      "Processing record 14 of set 6 | amderma\n",
      "City not found.  Skipping...\n",
      "Processing record 15 of set 6 | murray bridge\n",
      "Processing record 16 of set 6 | gorontalo\n",
      "Processing record 17 of set 6 | tilichiki\n",
      "Processing record 18 of set 6 | constitucion\n",
      "Processing record 19 of set 6 | tabulbah\n",
      "City not found.  Skipping...\n",
      "Processing record 20 of set 6 | birobidzhan\n",
      "Processing record 21 of set 6 | vicksburg\n",
      "Processing record 22 of set 6 | san jose\n",
      "Processing record 23 of set 6 | kaeo\n",
      "Processing record 24 of set 6 | belushya guba\n",
      "City not found.  Skipping...\n",
      "Processing record 25 of set 6 | buin\n",
      "Processing record 26 of set 6 | samusu\n",
      "City not found.  Skipping...\n",
      "Processing record 27 of set 6 | pokhara\n",
      "Processing record 28 of set 6 | honningsvag\n",
      "Processing record 29 of set 6 | hamilton\n",
      "Processing record 30 of set 6 | flinders\n",
      "Processing record 31 of set 6 | yanchukan\n",
      "City not found.  Skipping...\n",
      "Processing record 32 of set 6 | atasu\n",
      "Processing record 33 of set 6 | khour\n",
      "City not found.  Skipping...\n",
      "Processing record 34 of set 6 | namibe\n",
      "Processing record 35 of set 6 | fortuna\n",
      "Processing record 36 of set 6 | abu zabad\n",
      "Processing record 37 of set 6 | avera\n",
      "Processing record 38 of set 6 | say\n",
      "Processing record 39 of set 6 | khash\n",
      "Processing record 40 of set 6 | yerevan\n",
      "Processing record 41 of set 6 | bilibino\n",
      "Processing record 42 of set 6 | khani\n",
      "Processing record 43 of set 6 | goma\n",
      "Processing record 44 of set 6 | san patricio\n",
      "Processing record 45 of set 6 | lavrentiya\n",
      "Processing record 46 of set 6 | tari\n",
      "Processing record 47 of set 6 | lagoa\n",
      "Processing record 48 of set 6 | perth\n",
      "Processing record 49 of set 6 | los llanos de aridane\n",
      "Processing record 50 of set 6 | maua\n",
      "Processing record 1 of set 7 | kruisfontein\n",
      "Processing record 2 of set 7 | yumen\n",
      "Processing record 3 of set 7 | ushumun\n",
      "Processing record 4 of set 7 | naples\n",
      "Processing record 5 of set 7 | guayaramerin\n",
      "Processing record 6 of set 7 | krasnaya gorbatka\n",
      "Processing record 7 of set 7 | abaete\n",
      "Processing record 8 of set 7 | urumqi\n",
      "Processing record 9 of set 7 | burica\n",
      "City not found.  Skipping...\n",
      "Processing record 10 of set 7 | trofors\n",
      "Processing record 11 of set 7 | clyde river\n",
      "Processing record 12 of set 7 | kahului\n",
      "Processing record 13 of set 7 | kara-tyube\n",
      "Processing record 14 of set 7 | pangnirtung\n",
      "Processing record 15 of set 7 | abha\n",
      "Processing record 16 of set 7 | abu dhabi\n",
      "Processing record 17 of set 7 | batticaloa\n",
      "Processing record 18 of set 7 | gafanha da encarnacao\n",
      "Processing record 19 of set 7 | mawlaik\n",
      "Processing record 20 of set 7 | rio grande\n",
      "Processing record 21 of set 7 | northam\n",
      "Processing record 22 of set 7 | shwebo\n",
      "Processing record 23 of set 7 | ambodifototra\n",
      "City not found.  Skipping...\n",
      "Processing record 24 of set 7 | mahibadhoo\n",
      "Processing record 25 of set 7 | sioux lookout\n",
      "Processing record 26 of set 7 | temaraia\n",
      "City not found.  Skipping...\n",
      "Processing record 27 of set 7 | tengushevo\n",
      "Processing record 28 of set 7 | angelholm\n",
      "City not found.  Skipping...\n",
      "Processing record 29 of set 7 | beloha\n",
      "Processing record 30 of set 7 | pozo colorado\n",
      "Processing record 31 of set 7 | celestun\n",
      "Processing record 32 of set 7 | ajdabiya\n",
      "Processing record 33 of set 7 | tirlyanskiy\n",
      "Processing record 34 of set 7 | namatanai\n",
      "Processing record 35 of set 7 | joplin\n",
      "Processing record 36 of set 7 | khakhea\n",
      "Processing record 37 of set 7 | torbay\n",
      "Processing record 38 of set 7 | lagos\n",
      "Processing record 39 of set 7 | seoul\n",
      "Processing record 40 of set 7 | lebork\n",
      "Processing record 41 of set 7 | necochea\n",
      "Processing record 42 of set 7 | san quintin\n",
      "Processing record 43 of set 7 | moron\n",
      "Processing record 44 of set 7 | mali\n",
      "Processing record 45 of set 7 | dali\n",
      "Processing record 46 of set 7 | bathsheba\n",
      "Processing record 47 of set 7 | constantine\n",
      "Processing record 48 of set 7 | mafinga\n",
      "Processing record 49 of set 7 | chase\n",
      "Processing record 50 of set 7 | dunda\n",
      "Processing record 1 of set 8 | suntar\n",
      "Processing record 2 of set 8 | koubia\n",
      "Processing record 3 of set 8 | ayan\n",
      "Processing record 4 of set 8 | bowling green\n",
      "Processing record 5 of set 8 | buala\n",
      "Processing record 6 of set 8 | agadez\n",
      "Processing record 7 of set 8 | vagur\n",
      "Processing record 8 of set 8 | forio\n",
      "Processing record 9 of set 8 | hasaki\n",
      "Processing record 10 of set 8 | palafrugell\n",
      "Processing record 11 of set 8 | show low\n",
      "Processing record 12 of set 8 | itacare\n",
      "Processing record 13 of set 8 | arrecife\n",
      "Processing record 14 of set 8 | kindu\n",
      "Processing record 15 of set 8 | sabla\n",
      "Processing record 16 of set 8 | bukama\n",
      "Processing record 17 of set 8 | pyshma\n",
      "Processing record 18 of set 8 | pundaguitan\n",
      "Processing record 19 of set 8 | danilovka\n",
      "Processing record 20 of set 8 | ilulissat\n",
      "Processing record 21 of set 8 | saldanha\n",
      "Processing record 22 of set 8 | severo-yeniseyskiy\n",
      "Processing record 23 of set 8 | nokaneng\n",
      "Processing record 24 of set 8 | lazaro cardenas\n",
      "Processing record 25 of set 8 | obama\n"
     ]
    },
    {
     "name": "stdout",
     "output_type": "stream",
     "text": [
      "Processing record 26 of set 8 | vostok\n",
      "Processing record 27 of set 8 | boyolangu\n",
      "Processing record 28 of set 8 | saint-augustin\n",
      "Processing record 29 of set 8 | eyl\n",
      "Processing record 30 of set 8 | rock sound\n",
      "Processing record 31 of set 8 | ouadda\n",
      "Processing record 32 of set 8 | atikokan\n",
      "Processing record 33 of set 8 | mouzakion\n",
      "City not found.  Skipping...\n",
      "Processing record 34 of set 8 | champoton\n",
      "Processing record 35 of set 8 | puerto cabezas\n",
      "Processing record 36 of set 8 | maragogi\n",
      "Processing record 37 of set 8 | marawi\n",
      "Processing record 38 of set 8 | sao joao da barra\n",
      "Processing record 39 of set 8 | lensk\n",
      "Processing record 40 of set 8 | konstantinovka\n",
      "Processing record 41 of set 8 | sao gabriel da cachoeira\n",
      "Processing record 42 of set 8 | puertollano\n",
      "Processing record 43 of set 8 | devils lake\n",
      "Processing record 44 of set 8 | sangar\n",
      "Processing record 45 of set 8 | portland\n",
      "Processing record 46 of set 8 | kitgum\n",
      "Processing record 47 of set 8 | pindiga\n",
      "Processing record 48 of set 8 | coquimbo\n",
      "Processing record 49 of set 8 | itoman\n",
      "Processing record 50 of set 8 | ouallam\n",
      "Processing record 1 of set 9 | karratha\n",
      "Processing record 2 of set 9 | sept-iles\n",
      "Processing record 3 of set 9 | mangrol\n",
      "Processing record 4 of set 9 | manta\n",
      "Processing record 5 of set 9 | tecoanapa\n",
      "Processing record 6 of set 9 | grandview\n",
      "Processing record 7 of set 9 | puerto del rosario\n",
      "Processing record 8 of set 9 | sansai\n",
      "City not found.  Skipping...\n",
      "Processing record 9 of set 9 | jiroft\n",
      "City not found.  Skipping...\n",
      "Processing record 10 of set 9 | hokitika\n",
      "Processing record 11 of set 9 | upernavik\n",
      "Processing record 12 of set 9 | cascais\n",
      "Processing record 13 of set 9 | napasar\n",
      "Processing record 14 of set 9 | lasem\n",
      "Processing record 15 of set 9 | mogochin\n",
      "City not found.  Skipping...\n",
      "Processing record 16 of set 9 | onda\n",
      "Processing record 17 of set 9 | lajas\n",
      "Processing record 18 of set 9 | nerekhta\n",
      "Processing record 19 of set 9 | kanniyakumari\n",
      "Processing record 20 of set 9 | zhigansk\n",
      "Processing record 21 of set 9 | saint-orens-de-gameville\n",
      "Processing record 22 of set 9 | kamina\n",
      "Processing record 23 of set 9 | richards bay\n",
      "Processing record 24 of set 9 | sawtell\n",
      "Processing record 25 of set 9 | coihaique\n",
      "Processing record 26 of set 9 | gizo\n",
      "Processing record 27 of set 9 | vila franca do campo\n",
      "Processing record 28 of set 9 | apomu\n",
      "Processing record 29 of set 9 | iqaluit\n",
      "Processing record 30 of set 9 | yar-sale\n",
      "Processing record 31 of set 9 | iracoubo\n",
      "Processing record 32 of set 9 | bud\n",
      "Processing record 33 of set 9 | new castle\n",
      "Processing record 34 of set 9 | longyearbyen\n",
      "Processing record 35 of set 9 | abu samrah\n",
      "Processing record 36 of set 9 | peleduy\n",
      "Processing record 37 of set 9 | gat\n",
      "Processing record 38 of set 9 | half moon bay\n",
      "Processing record 39 of set 9 | haapiti\n",
      "Processing record 40 of set 9 | salina cruz\n",
      "Processing record 41 of set 9 | whitehorse\n",
      "Processing record 42 of set 9 | san pedro\n",
      "Processing record 43 of set 9 | ankpa\n",
      "Processing record 44 of set 9 | worcester\n",
      "Processing record 45 of set 9 | port hardy\n",
      "Processing record 46 of set 9 | kachikau\n",
      "City not found.  Skipping...\n",
      "Processing record 47 of set 9 | faanui\n",
      "Processing record 48 of set 9 | kedrovka\n",
      "Processing record 49 of set 9 | chateauroux\n",
      "Processing record 50 of set 9 | rungata\n",
      "City not found.  Skipping...\n",
      "Processing record 1 of set 10 | bandarbeyla\n",
      "Processing record 2 of set 10 | port hueneme\n",
      "Processing record 3 of set 10 | marcona\n",
      "City not found.  Skipping...\n",
      "Processing record 4 of set 10 | jagtial\n",
      "Processing record 5 of set 10 | atemar\n",
      "Processing record 6 of set 10 | isla mujeres\n",
      "Processing record 7 of set 10 | ituni\n",
      "City not found.  Skipping...\n",
      "Processing record 8 of set 10 | westport\n",
      "Processing record 9 of set 10 | mufumbwe\n",
      "Processing record 10 of set 10 | igarka\n",
      "Processing record 11 of set 10 | almaznyy\n",
      "Processing record 12 of set 10 | ampatuan\n",
      "Processing record 13 of set 10 | mandurah\n",
      "Processing record 14 of set 10 | trairi\n",
      "Processing record 15 of set 10 | sinnamary\n",
      "Processing record 16 of set 10 | grand gaube\n",
      "Processing record 17 of set 10 | jacareacanga\n",
      "Processing record 18 of set 10 | bukachacha\n",
      "Processing record 19 of set 10 | dudinka\n",
      "Processing record 20 of set 10 | gopalpur\n",
      "Processing record 21 of set 10 | tabou\n",
      "Processing record 22 of set 10 | taoudenni\n",
      "Processing record 23 of set 10 | udachnyy\n",
      "Processing record 24 of set 10 | kegayli\n",
      "City not found.  Skipping...\n",
      "Processing record 25 of set 10 | rayagada\n",
      "Processing record 26 of set 10 | fare\n",
      "Processing record 27 of set 10 | khilchipur\n",
      "Processing record 28 of set 10 | pinos\n",
      "Processing record 29 of set 10 | grindavik\n",
      "Processing record 30 of set 10 | axim\n",
      "Processing record 31 of set 10 | greytown\n",
      "Processing record 32 of set 10 | kavaratti\n",
      "Processing record 33 of set 10 | suao\n",
      "City not found.  Skipping...\n",
      "Processing record 34 of set 10 | fengzhen\n",
      "Processing record 35 of set 10 | sterling\n",
      "Processing record 36 of set 10 | gryazi\n",
      "Processing record 37 of set 10 | leiyang\n",
      "Processing record 38 of set 10 | opuwo\n",
      "Processing record 39 of set 10 | santa fe\n",
      "Processing record 40 of set 10 | comodoro rivadavia\n",
      "Processing record 41 of set 10 | tarudant\n",
      "City not found.  Skipping...\n",
      "Processing record 42 of set 10 | saint-pierre\n",
      "Processing record 43 of set 10 | godre\n",
      "City not found.  Skipping...\n",
      "Processing record 44 of set 10 | presidencia roque saenz pena\n",
      "Processing record 45 of set 10 | tovste\n",
      "Processing record 46 of set 10 | awbari\n",
      "Processing record 47 of set 10 | louis trichardt\n",
      "Processing record 48 of set 10 | djenne\n",
      "Processing record 49 of set 10 | kijang\n",
      "Processing record 50 of set 10 | mazyr\n",
      "Processing record 1 of set 11 | mahon\n",
      "Processing record 2 of set 11 | guerrero negro\n",
      "Processing record 3 of set 11 | gao\n",
      "Processing record 4 of set 11 | totness\n",
      "Processing record 5 of set 11 | tacoronte\n",
      "Processing record 6 of set 11 | storforshei\n",
      "Processing record 7 of set 11 | vila velha\n",
      "Processing record 8 of set 11 | santa rosa\n",
      "Processing record 9 of set 11 | poros\n",
      "Processing record 10 of set 11 | cortes\n",
      "Processing record 11 of set 11 | havelock\n",
      "Processing record 12 of set 11 | moussoro\n",
      "Processing record 13 of set 11 | benavente\n",
      "Processing record 14 of set 11 | saint-francois\n",
      "Processing record 15 of set 11 | road town\n",
      "Processing record 16 of set 11 | amga\n",
      "Processing record 17 of set 11 | walvis bay\n",
      "Processing record 18 of set 11 | kyra\n",
      "Processing record 19 of set 11 | costinesti\n",
      "Processing record 20 of set 11 | karasburg\n",
      "Processing record 21 of set 11 | alyangula\n",
      "Processing record 22 of set 11 | rocha\n",
      "Processing record 23 of set 11 | peterhead\n",
      "Processing record 24 of set 11 | darnah\n",
      "Processing record 25 of set 11 | svetlogorsk\n",
      "Processing record 26 of set 11 | reyes\n",
      "Processing record 27 of set 11 | mayo\n",
      "Processing record 28 of set 11 | cocoa beach\n",
      "Processing record 29 of set 11 | petrivka\n",
      "Processing record 30 of set 11 | drovyanaya\n",
      "Processing record 31 of set 11 | naze\n",
      "Processing record 32 of set 11 | picayune\n",
      "Processing record 33 of set 11 | tessalit\n",
      "Processing record 34 of set 11 | mufulira\n",
      "Processing record 35 of set 11 | yinchuan\n",
      "Processing record 36 of set 11 | geraldton\n",
      "Processing record 37 of set 11 | steamboat springs\n",
      "Processing record 38 of set 11 | port macquarie\n",
      "Processing record 39 of set 11 | sao paulo de olivenca\n",
      "Processing record 40 of set 11 | san isidro\n",
      "Processing record 41 of set 11 | vestmannaeyjar\n",
      "Processing record 42 of set 11 | viligili\n",
      "City not found.  Skipping...\n",
      "Processing record 43 of set 11 | strezhevoy\n",
      "Processing record 44 of set 11 | dingle\n",
      "Processing record 45 of set 11 | mezen\n",
      "Processing record 46 of set 11 | jiwani\n",
      "Processing record 47 of set 11 | santa maria\n",
      "Processing record 48 of set 11 | paso de carrasco\n",
      "Processing record 49 of set 11 | dzhusaly\n",
      "City not found.  Skipping...\n",
      "Processing record 50 of set 11 | nantucket\n",
      "Processing record 1 of set 12 | byron bay\n",
      "Processing record 2 of set 12 | kemijarvi\n",
      "Processing record 3 of set 12 | pisco\n",
      "Processing record 4 of set 12 | khazar\n",
      "Processing record 5 of set 12 | evensk\n",
      "Processing record 6 of set 12 | bad tolz\n",
      "Processing record 7 of set 12 | malakal\n",
      "Processing record 8 of set 12 | palabuhanratu\n",
      "City not found.  Skipping...\n",
      "Processing record 9 of set 12 | doctor pedro p. pena\n",
      "City not found.  Skipping...\n",
      "Processing record 10 of set 12 | kutum\n"
     ]
    },
    {
     "name": "stdout",
     "output_type": "stream",
     "text": [
      "Processing record 11 of set 12 | mandalgovi\n",
      "Processing record 12 of set 12 | souillac\n",
      "Processing record 13 of set 12 | charters towers\n",
      "Processing record 14 of set 12 | salinopolis\n",
      "Processing record 15 of set 12 | naryan-mar\n",
      "Processing record 16 of set 12 | luanda\n",
      "Processing record 17 of set 12 | sicamous\n",
      "Processing record 18 of set 12 | amuntai\n",
      "Processing record 19 of set 12 | medyn\n",
      "Processing record 20 of set 12 | bonthe\n",
      "Processing record 21 of set 12 | forraskut\n",
      "Processing record 22 of set 12 | linxia\n",
      "Processing record 23 of set 12 | atar\n",
      "Processing record 24 of set 12 | camopi\n",
      "Processing record 25 of set 12 | nylstroom\n",
      "City not found.  Skipping...\n",
      "Processing record 26 of set 12 | aden\n",
      "Processing record 27 of set 12 | shakhunya\n",
      "Processing record 28 of set 12 | ixtapa\n",
      "Processing record 29 of set 12 | kabo\n",
      "Processing record 30 of set 12 | sulangan\n",
      "Processing record 31 of set 12 | mpika\n",
      "Processing record 32 of set 12 | batagay\n",
      "Processing record 33 of set 12 | katangli\n",
      "Processing record 34 of set 12 | manakara\n",
      "Processing record 35 of set 12 | feijo\n",
      "Processing record 36 of set 12 | kaseda\n",
      "Processing record 37 of set 12 | altamont\n",
      "Processing record 38 of set 12 | inhambane\n",
      "Processing record 39 of set 12 | mareeba\n",
      "Processing record 40 of set 12 | alamogordo\n",
      "Processing record 41 of set 12 | tsiroanomandidy\n",
      "Processing record 42 of set 12 | pacific grove\n",
      "Processing record 43 of set 12 | ereymentau\n",
      "Processing record 44 of set 12 | glendive\n"
     ]
    }
   ],
   "source": [
    "city_temp=[]\n",
    "\n",
    "#cities2=['London','Chicago','dallas'] test the code before calling 600+ cities\n",
    "print(\"Beginning Data Retrieval\\n-----------------------------\")\n",
    "rcd=0 #initial values for record and sets\n",
    "sets=1\n",
    "\n",
    "for city in cities:\n",
    "    rcd+=1\n",
    "    print(f'Processing record {rcd} of set {sets} | {city}')\n",
    "    \n",
    "    if (rcd==50):\n",
    "        rcd=0\n",
    "        sets+=1\n",
    "    \n",
    "    url = f\"http://api.openweathermap.org/data/2.5/weather?appid={weather_api_key}&q={city}&units=imperial\" \n",
    "    try:\n",
    "        jsonresponse=requests.get(url).json()\n",
    "        city_temp.append({'City':city, \n",
    "                         'Lat': jsonresponse['coord']['lat'],\n",
    "                         'Long': jsonresponse['coord']['lon'],\n",
    "                         'Max Temp':jsonresponse['main']['temp_max'],\n",
    "                         'Humidity':jsonresponse['main']['humidity'],\n",
    "                         'Cloudiness':jsonresponse['clouds']['all'],\n",
    "                         'Wind Speed':jsonresponse['wind']['speed'],\n",
    "                         'Country': jsonresponse['sys']['country'],\n",
    "                         'Date':jsonresponse['dt']})\n",
    "    except:\n",
    "        print('City not found.  Skipping...')\n",
    "            "
   ]
  },
  {
   "cell_type": "markdown",
   "metadata": {},
   "source": [
    "### Convert Raw Data to DataFrame\n",
    "* Export the city data into a .csv.\n",
    "* Display the DataFrame"
   ]
  },
  {
   "cell_type": "code",
   "execution_count": 137,
   "metadata": {},
   "outputs": [
    {
     "data": {
      "text/html": [
       "<div>\n",
       "<style scoped>\n",
       "    .dataframe tbody tr th:only-of-type {\n",
       "        vertical-align: middle;\n",
       "    }\n",
       "\n",
       "    .dataframe tbody tr th {\n",
       "        vertical-align: top;\n",
       "    }\n",
       "\n",
       "    .dataframe thead th {\n",
       "        text-align: right;\n",
       "    }\n",
       "</style>\n",
       "<table border=\"1\" class=\"dataframe\">\n",
       "  <thead>\n",
       "    <tr style=\"text-align: right;\">\n",
       "      <th></th>\n",
       "      <th>City</th>\n",
       "      <th>Lat</th>\n",
       "      <th>Long</th>\n",
       "      <th>Max Temp</th>\n",
       "      <th>Humidity</th>\n",
       "      <th>Cloudiness</th>\n",
       "      <th>Wind Speed</th>\n",
       "      <th>Country</th>\n",
       "      <th>Date</th>\n",
       "    </tr>\n",
       "  </thead>\n",
       "  <tbody>\n",
       "    <tr>\n",
       "      <th>0</th>\n",
       "      <td>vaini</td>\n",
       "      <td>-21.2000</td>\n",
       "      <td>-175.2000</td>\n",
       "      <td>75.36</td>\n",
       "      <td>88</td>\n",
       "      <td>75</td>\n",
       "      <td>10.36</td>\n",
       "      <td>TO</td>\n",
       "      <td>1661830666</td>\n",
       "    </tr>\n",
       "    <tr>\n",
       "      <th>1</th>\n",
       "      <td>xuanhua</td>\n",
       "      <td>40.6103</td>\n",
       "      <td>115.0447</td>\n",
       "      <td>75.65</td>\n",
       "      <td>46</td>\n",
       "      <td>0</td>\n",
       "      <td>5.39</td>\n",
       "      <td>CN</td>\n",
       "      <td>1661830666</td>\n",
       "    </tr>\n",
       "    <tr>\n",
       "      <th>2</th>\n",
       "      <td>plainview</td>\n",
       "      <td>40.7765</td>\n",
       "      <td>-73.4673</td>\n",
       "      <td>76.96</td>\n",
       "      <td>82</td>\n",
       "      <td>100</td>\n",
       "      <td>11.50</td>\n",
       "      <td>US</td>\n",
       "      <td>1661830667</td>\n",
       "    </tr>\n",
       "    <tr>\n",
       "      <th>3</th>\n",
       "      <td>kapaa</td>\n",
       "      <td>22.0752</td>\n",
       "      <td>-159.3190</td>\n",
       "      <td>82.72</td>\n",
       "      <td>73</td>\n",
       "      <td>40</td>\n",
       "      <td>12.66</td>\n",
       "      <td>US</td>\n",
       "      <td>1661830667</td>\n",
       "    </tr>\n",
       "    <tr>\n",
       "      <th>4</th>\n",
       "      <td>busselton</td>\n",
       "      <td>-33.6500</td>\n",
       "      <td>115.3333</td>\n",
       "      <td>59.38</td>\n",
       "      <td>56</td>\n",
       "      <td>6</td>\n",
       "      <td>2.71</td>\n",
       "      <td>AU</td>\n",
       "      <td>1661830667</td>\n",
       "    </tr>\n",
       "  </tbody>\n",
       "</table>\n",
       "</div>"
      ],
      "text/plain": [
       "        City      Lat      Long  Max Temp  Humidity  Cloudiness  Wind Speed  \\\n",
       "0      vaini -21.2000 -175.2000     75.36        88          75       10.36   \n",
       "1    xuanhua  40.6103  115.0447     75.65        46           0        5.39   \n",
       "2  plainview  40.7765  -73.4673     76.96        82         100       11.50   \n",
       "3      kapaa  22.0752 -159.3190     82.72        73          40       12.66   \n",
       "4  busselton -33.6500  115.3333     59.38        56           6        2.71   \n",
       "\n",
       "  Country        Date  \n",
       "0      TO  1661830666  \n",
       "1      CN  1661830666  \n",
       "2      US  1661830667  \n",
       "3      US  1661830667  \n",
       "4      AU  1661830667  "
      ]
     },
     "execution_count": 137,
     "metadata": {},
     "output_type": "execute_result"
    }
   ],
   "source": [
    "for x in range(len(cities)):\n",
    "    cities[x]= cities[x].title()\n",
    "df2=pd.DataFrame(city_temp)\n",
    "df2.to_csv(output_data_file)\n",
    "df2.head()"
   ]
  },
  {
   "cell_type": "code",
   "execution_count": 138,
   "metadata": {},
   "outputs": [
    {
     "data": {
      "text/html": [
       "<div>\n",
       "<style scoped>\n",
       "    .dataframe tbody tr th:only-of-type {\n",
       "        vertical-align: middle;\n",
       "    }\n",
       "\n",
       "    .dataframe tbody tr th {\n",
       "        vertical-align: top;\n",
       "    }\n",
       "\n",
       "    .dataframe thead th {\n",
       "        text-align: right;\n",
       "    }\n",
       "</style>\n",
       "<table border=\"1\" class=\"dataframe\">\n",
       "  <thead>\n",
       "    <tr style=\"text-align: right;\">\n",
       "      <th></th>\n",
       "      <th>Lat</th>\n",
       "      <th>Long</th>\n",
       "      <th>Max Temp</th>\n",
       "      <th>Humidity</th>\n",
       "      <th>Cloudiness</th>\n",
       "      <th>Wind Speed</th>\n",
       "      <th>Date</th>\n",
       "    </tr>\n",
       "  </thead>\n",
       "  <tbody>\n",
       "    <tr>\n",
       "      <th>count</th>\n",
       "      <td>543.000000</td>\n",
       "      <td>543.000000</td>\n",
       "      <td>543.000000</td>\n",
       "      <td>543.000000</td>\n",
       "      <td>543.000000</td>\n",
       "      <td>543.000000</td>\n",
       "      <td>5.430000e+02</td>\n",
       "    </tr>\n",
       "    <tr>\n",
       "      <th>mean</th>\n",
       "      <td>20.829763</td>\n",
       "      <td>16.131163</td>\n",
       "      <td>67.337238</td>\n",
       "      <td>71.637201</td>\n",
       "      <td>51.983425</td>\n",
       "      <td>7.657330</td>\n",
       "      <td>1.661831e+09</td>\n",
       "    </tr>\n",
       "    <tr>\n",
       "      <th>std</th>\n",
       "      <td>33.184701</td>\n",
       "      <td>89.056826</td>\n",
       "      <td>13.513028</td>\n",
       "      <td>19.892679</td>\n",
       "      <td>39.883938</td>\n",
       "      <td>5.241408</td>\n",
       "      <td>8.861750e+01</td>\n",
       "    </tr>\n",
       "    <tr>\n",
       "      <th>min</th>\n",
       "      <td>-54.800000</td>\n",
       "      <td>-175.200000</td>\n",
       "      <td>26.260000</td>\n",
       "      <td>9.000000</td>\n",
       "      <td>0.000000</td>\n",
       "      <td>0.000000</td>\n",
       "      <td>1.661830e+09</td>\n",
       "    </tr>\n",
       "    <tr>\n",
       "      <th>25%</th>\n",
       "      <td>-8.109850</td>\n",
       "      <td>-63.630450</td>\n",
       "      <td>58.220000</td>\n",
       "      <td>61.000000</td>\n",
       "      <td>8.500000</td>\n",
       "      <td>3.735000</td>\n",
       "      <td>1.661831e+09</td>\n",
       "    </tr>\n",
       "    <tr>\n",
       "      <th>50%</th>\n",
       "      <td>26.124700</td>\n",
       "      <td>18.629000</td>\n",
       "      <td>69.480000</td>\n",
       "      <td>76.000000</td>\n",
       "      <td>51.000000</td>\n",
       "      <td>6.040000</td>\n",
       "      <td>1.661831e+09</td>\n",
       "    </tr>\n",
       "    <tr>\n",
       "      <th>75%</th>\n",
       "      <td>48.397100</td>\n",
       "      <td>93.933350</td>\n",
       "      <td>77.620000</td>\n",
       "      <td>87.000000</td>\n",
       "      <td>96.000000</td>\n",
       "      <td>10.360000</td>\n",
       "      <td>1.661831e+09</td>\n",
       "    </tr>\n",
       "    <tr>\n",
       "      <th>max</th>\n",
       "      <td>78.218600</td>\n",
       "      <td>179.316700</td>\n",
       "      <td>99.000000</td>\n",
       "      <td>100.000000</td>\n",
       "      <td>100.000000</td>\n",
       "      <td>31.210000</td>\n",
       "      <td>1.661831e+09</td>\n",
       "    </tr>\n",
       "  </tbody>\n",
       "</table>\n",
       "</div>"
      ],
      "text/plain": [
       "              Lat        Long    Max Temp    Humidity  Cloudiness  Wind Speed  \\\n",
       "count  543.000000  543.000000  543.000000  543.000000  543.000000  543.000000   \n",
       "mean    20.829763   16.131163   67.337238   71.637201   51.983425    7.657330   \n",
       "std     33.184701   89.056826   13.513028   19.892679   39.883938    5.241408   \n",
       "min    -54.800000 -175.200000   26.260000    9.000000    0.000000    0.000000   \n",
       "25%     -8.109850  -63.630450   58.220000   61.000000    8.500000    3.735000   \n",
       "50%     26.124700   18.629000   69.480000   76.000000   51.000000    6.040000   \n",
       "75%     48.397100   93.933350   77.620000   87.000000   96.000000   10.360000   \n",
       "max     78.218600  179.316700   99.000000  100.000000  100.000000   31.210000   \n",
       "\n",
       "               Date  \n",
       "count  5.430000e+02  \n",
       "mean   1.661831e+09  \n",
       "std    8.861750e+01  \n",
       "min    1.661830e+09  \n",
       "25%    1.661831e+09  \n",
       "50%    1.661831e+09  \n",
       "75%    1.661831e+09  \n",
       "max    1.661831e+09  "
      ]
     },
     "execution_count": 138,
     "metadata": {},
     "output_type": "execute_result"
    }
   ],
   "source": [
    "numeric_df=df2.describe()\n",
    "numeric_df   "
   ]
  },
  {
   "cell_type": "markdown",
   "metadata": {},
   "source": [
    "## Inspect the data and remove the cities where the humidity > 100%.\n",
    "----\n",
    "Skip this step if there are no cities that have humidity > 100%. "
   ]
  },
  {
   "cell_type": "code",
   "execution_count": 135,
   "metadata": {},
   "outputs": [],
   "source": [
    "#SKIPPED"
   ]
  },
  {
   "cell_type": "code",
   "execution_count": null,
   "metadata": {},
   "outputs": [],
   "source": []
  },
  {
   "cell_type": "code",
   "execution_count": 136,
   "metadata": {},
   "outputs": [],
   "source": [
    "# Make a new DataFrame equal to the city data to drop all humidity outliers by index.\n",
    "# Passing \"inplace=False\" will make a copy of the city_data DataFrame, which we call \"clean_city_data\".\n"
   ]
  },
  {
   "cell_type": "markdown",
   "metadata": {},
   "source": [
    "## Plotting the Data\n",
    "* Use proper labeling of the plots using plot titles (including date of analysis) and axes labels.\n",
    "* Save the plotted figures as .pngs."
   ]
  },
  {
   "cell_type": "markdown",
   "metadata": {},
   "source": [
    "## Latitude vs. Temperature Plot"
   ]
  },
  {
   "cell_type": "code",
   "execution_count": 139,
   "metadata": {},
   "outputs": [
    {
     "data": {
      "image/png": "[encoded data removed]",
      "text/plain": [
       "<Figure size 432x288 with 1 Axes>"
      ]
     },
     "metadata": {
      "needs_background": "light"
     },
     "output_type": "display_data"
    }
   ],
   "source": [
    "plt.scatter(df2['Lat'], df2['Max Temp'])\n",
    "plt.title('Latitude vs Max Temperature 8/29/2022')\n",
    "plt.xlabel('Latitude')\n",
    "plt.ylabel('Temperature(F)')\n",
    "plt.grid()\n",
    "plt.xlim(-60,90)\n",
    "plt.savefig('output_data/Fig1.png')\n",
    "plt.show()"
   ]
  },
  {
   "cell_type": "markdown",
   "metadata": {},
   "source": [
    "## Latitude vs. Humidity Plot"
   ]
  },
  {
   "cell_type": "code",
   "execution_count": 140,
   "metadata": {},
   "outputs": [
    {
     "data": {
      "image/png": "[encoded data removed]",
      "text/plain": [
       "<Figure size 432x288 with 1 Axes>"
      ]
     },
     "metadata": {
      "needs_background": "light"
     },
     "output_type": "display_data"
    }
   ],
   "source": [
    "plt.scatter(df2['Lat'], df2['Humidity'])\n",
    "plt.title('Latitude vs Humidity 8/29/2022')\n",
    "plt.xlabel('Latitude')\n",
    "plt.ylabel('Humidity')\n",
    "plt.grid()\n",
    "plt.savefig('output_data/Fig2.png')\n",
    "plt.show()"
   ]
  },
  {
   "cell_type": "markdown",
   "metadata": {},
   "source": [
    "## Latitude vs. Cloudiness Plot"
   ]
  },
  {
   "cell_type": "code",
   "execution_count": 141,
   "metadata": {},
   "outputs": [
    {
     "data": {
      "image/png": "[encoded data removed]",
      "text/plain": [
       "<Figure size 432x288 with 1 Axes>"
      ]
     },
     "metadata": {
      "needs_background": "light"
     },
     "output_type": "display_data"
    }
   ],
   "source": [
    "plt.scatter(df2['Lat'], df2['Cloudiness'])\n",
    "plt.title('Latitude vs Cloudiness 8/29/2022')\n",
    "plt.xlabel('Latitude')\n",
    "plt.ylabel('Cloudiness')\n",
    "plt.grid()\n",
    "plt.savefig('output_data/Fig3.png')\n",
    "plt.show()"
   ]
  },
  {
   "cell_type": "markdown",
   "metadata": {},
   "source": [
    "## Latitude vs. Wind Speed Plot"
   ]
  },
  {
   "cell_type": "code",
   "execution_count": 142,
   "metadata": {},
   "outputs": [
    {
     "data": {
      "image/png": "[encoded data removed]",
      "text/plain": [
       "<Figure size 432x288 with 1 Axes>"
      ]
     },
     "metadata": {
      "needs_background": "light"
     },
     "output_type": "display_data"
    }
   ],
   "source": [
    "plt.scatter(df2['Lat'], df2['Wind Speed'])\n",
    "plt.title('Latitude vs Wind Speed 8/29/2022')\n",
    "plt.xlabel('Latitude')\n",
    "plt.ylabel('Wind Speed')\n",
    "plt.grid()\n",
    "plt.savefig('output_data/Fig4.png')\n",
    "plt.show()"
   ]
  },
  {
   "cell_type": "markdown",
   "metadata": {},
   "source": [
    "## Linear Regression"
   ]
  },
  {
   "cell_type": "code",
   "execution_count": 143,
   "metadata": {},
   "outputs": [
    {
     "data": {
      "text/html": [
       "<div>\n",
       "<style scoped>\n",
       "    .dataframe tbody tr th:only-of-type {\n",
       "        vertical-align: middle;\n",
       "    }\n",
       "\n",
       "    .dataframe tbody tr th {\n",
       "        vertical-align: top;\n",
       "    }\n",
       "\n",
       "    .dataframe thead th {\n",
       "        text-align: right;\n",
       "    }\n",
       "</style>\n",
       "<table border=\"1\" class=\"dataframe\">\n",
       "  <thead>\n",
       "    <tr style=\"text-align: right;\">\n",
       "      <th></th>\n",
       "      <th>City</th>\n",
       "      <th>Lat</th>\n",
       "      <th>Long</th>\n",
       "      <th>Max Temp</th>\n",
       "      <th>Humidity</th>\n",
       "      <th>Cloudiness</th>\n",
       "      <th>Wind Speed</th>\n",
       "      <th>Country</th>\n",
       "      <th>Date</th>\n",
       "    </tr>\n",
       "  </thead>\n",
       "  <tbody>\n",
       "    <tr>\n",
       "      <th>0</th>\n",
       "      <td>vaini</td>\n",
       "      <td>-21.2000</td>\n",
       "      <td>-175.2000</td>\n",
       "      <td>75.36</td>\n",
       "      <td>88</td>\n",
       "      <td>75</td>\n",
       "      <td>10.36</td>\n",
       "      <td>TO</td>\n",
       "      <td>1661830666</td>\n",
       "    </tr>\n",
       "    <tr>\n",
       "      <th>1</th>\n",
       "      <td>xuanhua</td>\n",
       "      <td>40.6103</td>\n",
       "      <td>115.0447</td>\n",
       "      <td>75.65</td>\n",
       "      <td>46</td>\n",
       "      <td>0</td>\n",
       "      <td>5.39</td>\n",
       "      <td>CN</td>\n",
       "      <td>1661830666</td>\n",
       "    </tr>\n",
       "    <tr>\n",
       "      <th>2</th>\n",
       "      <td>plainview</td>\n",
       "      <td>40.7765</td>\n",
       "      <td>-73.4673</td>\n",
       "      <td>76.96</td>\n",
       "      <td>82</td>\n",
       "      <td>100</td>\n",
       "      <td>11.50</td>\n",
       "      <td>US</td>\n",
       "      <td>1661830667</td>\n",
       "    </tr>\n",
       "    <tr>\n",
       "      <th>3</th>\n",
       "      <td>kapaa</td>\n",
       "      <td>22.0752</td>\n",
       "      <td>-159.3190</td>\n",
       "      <td>82.72</td>\n",
       "      <td>73</td>\n",
       "      <td>40</td>\n",
       "      <td>12.66</td>\n",
       "      <td>US</td>\n",
       "      <td>1661830667</td>\n",
       "    </tr>\n",
       "    <tr>\n",
       "      <th>4</th>\n",
       "      <td>busselton</td>\n",
       "      <td>-33.6500</td>\n",
       "      <td>115.3333</td>\n",
       "      <td>59.38</td>\n",
       "      <td>56</td>\n",
       "      <td>6</td>\n",
       "      <td>2.71</td>\n",
       "      <td>AU</td>\n",
       "      <td>1661830667</td>\n",
       "    </tr>\n",
       "  </tbody>\n",
       "</table>\n",
       "</div>"
      ],
      "text/plain": [
       "        City      Lat      Long  Max Temp  Humidity  Cloudiness  Wind Speed  \\\n",
       "0      vaini -21.2000 -175.2000     75.36        88          75       10.36   \n",
       "1    xuanhua  40.6103  115.0447     75.65        46           0        5.39   \n",
       "2  plainview  40.7765  -73.4673     76.96        82         100       11.50   \n",
       "3      kapaa  22.0752 -159.3190     82.72        73          40       12.66   \n",
       "4  busselton -33.6500  115.3333     59.38        56           6        2.71   \n",
       "\n",
       "  Country        Date  \n",
       "0      TO  1661830666  \n",
       "1      CN  1661830666  \n",
       "2      US  1661830667  \n",
       "3      US  1661830667  \n",
       "4      AU  1661830667  "
      ]
     },
     "execution_count": 143,
     "metadata": {},
     "output_type": "execute_result"
    }
   ],
   "source": [
    "df2.head()"
   ]
  },
  {
   "cell_type": "code",
   "execution_count": 144,
   "metadata": {},
   "outputs": [
    {
     "data": {
      "text/html": [
       "<div>\n",
       "<style scoped>\n",
       "    .dataframe tbody tr th:only-of-type {\n",
       "        vertical-align: middle;\n",
       "    }\n",
       "\n",
       "    .dataframe tbody tr th {\n",
       "        vertical-align: top;\n",
       "    }\n",
       "\n",
       "    .dataframe thead th {\n",
       "        text-align: right;\n",
       "    }\n",
       "</style>\n",
       "<table border=\"1\" class=\"dataframe\">\n",
       "  <thead>\n",
       "    <tr style=\"text-align: right;\">\n",
       "      <th></th>\n",
       "      <th>City</th>\n",
       "      <th>Lat</th>\n",
       "      <th>Long</th>\n",
       "      <th>Max Temp</th>\n",
       "      <th>Humidity</th>\n",
       "      <th>Cloudiness</th>\n",
       "      <th>Wind Speed</th>\n",
       "      <th>Country</th>\n",
       "      <th>Date</th>\n",
       "    </tr>\n",
       "  </thead>\n",
       "  <tbody>\n",
       "    <tr>\n",
       "      <th>1</th>\n",
       "      <td>xuanhua</td>\n",
       "      <td>40.6103</td>\n",
       "      <td>115.0447</td>\n",
       "      <td>75.65</td>\n",
       "      <td>46</td>\n",
       "      <td>0</td>\n",
       "      <td>5.39</td>\n",
       "      <td>CN</td>\n",
       "      <td>1661830666</td>\n",
       "    </tr>\n",
       "    <tr>\n",
       "      <th>2</th>\n",
       "      <td>plainview</td>\n",
       "      <td>40.7765</td>\n",
       "      <td>-73.4673</td>\n",
       "      <td>76.96</td>\n",
       "      <td>82</td>\n",
       "      <td>100</td>\n",
       "      <td>11.50</td>\n",
       "      <td>US</td>\n",
       "      <td>1661830667</td>\n",
       "    </tr>\n",
       "    <tr>\n",
       "      <th>3</th>\n",
       "      <td>kapaa</td>\n",
       "      <td>22.0752</td>\n",
       "      <td>-159.3190</td>\n",
       "      <td>82.72</td>\n",
       "      <td>73</td>\n",
       "      <td>40</td>\n",
       "      <td>12.66</td>\n",
       "      <td>US</td>\n",
       "      <td>1661830667</td>\n",
       "    </tr>\n",
       "  </tbody>\n",
       "</table>\n",
       "</div>"
      ],
      "text/plain": [
       "        City      Lat      Long  Max Temp  Humidity  Cloudiness  Wind Speed  \\\n",
       "1    xuanhua  40.6103  115.0447     75.65        46           0        5.39   \n",
       "2  plainview  40.7765  -73.4673     76.96        82         100       11.50   \n",
       "3      kapaa  22.0752 -159.3190     82.72        73          40       12.66   \n",
       "\n",
       "  Country        Date  \n",
       "1      CN  1661830666  \n",
       "2      US  1661830667  \n",
       "3      US  1661830667  "
      ]
     },
     "execution_count": 144,
     "metadata": {},
     "output_type": "execute_result"
    }
   ],
   "source": [
    "northern_hemi=df2.loc[df2['Lat']>0,:]\n",
    "northern_hemi.head(3)"
   ]
  },
  {
   "cell_type": "code",
   "execution_count": 145,
   "metadata": {},
   "outputs": [
    {
     "data": {
      "text/html": [
       "<div>\n",
       "<style scoped>\n",
       "    .dataframe tbody tr th:only-of-type {\n",
       "        vertical-align: middle;\n",
       "    }\n",
       "\n",
       "    .dataframe tbody tr th {\n",
       "        vertical-align: top;\n",
       "    }\n",
       "\n",
       "    .dataframe thead th {\n",
       "        text-align: right;\n",
       "    }\n",
       "</style>\n",
       "<table border=\"1\" class=\"dataframe\">\n",
       "  <thead>\n",
       "    <tr style=\"text-align: right;\">\n",
       "      <th></th>\n",
       "      <th>City</th>\n",
       "      <th>Lat</th>\n",
       "      <th>Long</th>\n",
       "      <th>Max Temp</th>\n",
       "      <th>Humidity</th>\n",
       "      <th>Cloudiness</th>\n",
       "      <th>Wind Speed</th>\n",
       "      <th>Country</th>\n",
       "      <th>Date</th>\n",
       "    </tr>\n",
       "  </thead>\n",
       "  <tbody>\n",
       "    <tr>\n",
       "      <th>0</th>\n",
       "      <td>vaini</td>\n",
       "      <td>-21.2000</td>\n",
       "      <td>-175.2000</td>\n",
       "      <td>75.36</td>\n",
       "      <td>88</td>\n",
       "      <td>75</td>\n",
       "      <td>10.36</td>\n",
       "      <td>TO</td>\n",
       "      <td>1661830666</td>\n",
       "    </tr>\n",
       "    <tr>\n",
       "      <th>4</th>\n",
       "      <td>busselton</td>\n",
       "      <td>-33.6500</td>\n",
       "      <td>115.3333</td>\n",
       "      <td>59.38</td>\n",
       "      <td>56</td>\n",
       "      <td>6</td>\n",
       "      <td>2.71</td>\n",
       "      <td>AU</td>\n",
       "      <td>1661830667</td>\n",
       "    </tr>\n",
       "    <tr>\n",
       "      <th>5</th>\n",
       "      <td>port alfred</td>\n",
       "      <td>-33.5906</td>\n",
       "      <td>26.8910</td>\n",
       "      <td>54.46</td>\n",
       "      <td>61</td>\n",
       "      <td>90</td>\n",
       "      <td>15.61</td>\n",
       "      <td>ZA</td>\n",
       "      <td>1661830668</td>\n",
       "    </tr>\n",
       "  </tbody>\n",
       "</table>\n",
       "</div>"
      ],
      "text/plain": [
       "          City      Lat      Long  Max Temp  Humidity  Cloudiness  Wind Speed  \\\n",
       "0        vaini -21.2000 -175.2000     75.36        88          75       10.36   \n",
       "4    busselton -33.6500  115.3333     59.38        56           6        2.71   \n",
       "5  port alfred -33.5906   26.8910     54.46        61          90       15.61   \n",
       "\n",
       "  Country        Date  \n",
       "0      TO  1661830666  \n",
       "4      AU  1661830667  \n",
       "5      ZA  1661830668  "
      ]
     },
     "execution_count": 145,
     "metadata": {},
     "output_type": "execute_result"
    }
   ],
   "source": [
    "southern_hemi=df2.loc[df2['Lat']<0,:]\n",
    "southern_hemi.head(3)"
   ]
  },
  {
   "cell_type": "markdown",
   "metadata": {},
   "source": [
    "####  Northern Hemisphere - Max Temp vs. Latitude Linear Regression"
   ]
  },
  {
   "cell_type": "code",
   "execution_count": 146,
   "metadata": {},
   "outputs": [
    {
     "data": {
      "text/html": [
       "<div>\n",
       "<style scoped>\n",
       "    .dataframe tbody tr th:only-of-type {\n",
       "        vertical-align: middle;\n",
       "    }\n",
       "\n",
       "    .dataframe tbody tr th {\n",
       "        vertical-align: top;\n",
       "    }\n",
       "\n",
       "    .dataframe thead th {\n",
       "        text-align: right;\n",
       "    }\n",
       "</style>\n",
       "<table border=\"1\" class=\"dataframe\">\n",
       "  <thead>\n",
       "    <tr style=\"text-align: right;\">\n",
       "      <th></th>\n",
       "      <th>City</th>\n",
       "      <th>Lat</th>\n",
       "      <th>Long</th>\n",
       "      <th>Max Temp</th>\n",
       "      <th>Humidity</th>\n",
       "      <th>Cloudiness</th>\n",
       "      <th>Wind Speed</th>\n",
       "      <th>Country</th>\n",
       "      <th>Date</th>\n",
       "    </tr>\n",
       "  </thead>\n",
       "  <tbody>\n",
       "    <tr>\n",
       "      <th>1</th>\n",
       "      <td>xuanhua</td>\n",
       "      <td>40.6103</td>\n",
       "      <td>115.0447</td>\n",
       "      <td>75.65</td>\n",
       "      <td>46</td>\n",
       "      <td>0</td>\n",
       "      <td>5.39</td>\n",
       "      <td>CN</td>\n",
       "      <td>1661830666</td>\n",
       "    </tr>\n",
       "    <tr>\n",
       "      <th>2</th>\n",
       "      <td>plainview</td>\n",
       "      <td>40.7765</td>\n",
       "      <td>-73.4673</td>\n",
       "      <td>76.96</td>\n",
       "      <td>82</td>\n",
       "      <td>100</td>\n",
       "      <td>11.50</td>\n",
       "      <td>US</td>\n",
       "      <td>1661830667</td>\n",
       "    </tr>\n",
       "    <tr>\n",
       "      <th>3</th>\n",
       "      <td>kapaa</td>\n",
       "      <td>22.0752</td>\n",
       "      <td>-159.3190</td>\n",
       "      <td>82.72</td>\n",
       "      <td>73</td>\n",
       "      <td>40</td>\n",
       "      <td>12.66</td>\n",
       "      <td>US</td>\n",
       "      <td>1661830667</td>\n",
       "    </tr>\n",
       "  </tbody>\n",
       "</table>\n",
       "</div>"
      ],
      "text/plain": [
       "        City      Lat      Long  Max Temp  Humidity  Cloudiness  Wind Speed  \\\n",
       "1    xuanhua  40.6103  115.0447     75.65        46           0        5.39   \n",
       "2  plainview  40.7765  -73.4673     76.96        82         100       11.50   \n",
       "3      kapaa  22.0752 -159.3190     82.72        73          40       12.66   \n",
       "\n",
       "  Country        Date  \n",
       "1      CN  1661830666  \n",
       "2      US  1661830667  \n",
       "3      US  1661830667  "
      ]
     },
     "execution_count": 146,
     "metadata": {},
     "output_type": "execute_result"
    }
   ],
   "source": [
    "northern_hemi.head(3)"
   ]
  },
  {
   "cell_type": "code",
   "execution_count": 147,
   "metadata": {},
   "outputs": [
    {
     "name": "stdout",
     "output_type": "stream",
     "text": [
      "The r-value is -0.7611906520542945.\n"
     ]
    },
    {
     "data": {
      "image/png": "[encoded data removed]",
      "text/plain": [
       "<Figure size 432x288 with 1 Axes>"
      ]
     },
     "metadata": {
      "needs_background": "light"
     },
     "output_type": "display_data"
    }
   ],
   "source": [
    "plt.scatter(northern_hemi['Lat'], northern_hemi['Max Temp'])\n",
    "x_values = northern_hemi['Lat']\n",
    "y_values = northern_hemi['Max Temp']\n",
    "(slope, intercept, rvalue, pvalue, stderr) = linregress(x_values, y_values)\n",
    "regress_values = x_values * slope + intercept\n",
    "line_eq = \"y = \" + str(round(slope,2)) + \"x + \" + str(round(intercept,2))\n",
    "plt.plot(x_values,regress_values,\"r-\")\n",
    "plt.annotate(line_eq,(10,40),fontsize=15,color=\"red\")\n",
    "print(f'The r-value is {rvalue}.')\n",
    "plt.title('Northern Hemisphere - Max Temp vs. Latitude Linear Regression 8/29/2022')\n",
    "plt.xlabel('Latitude')\n",
    "plt.ylabel('Max Temp')\n",
    "plt.savefig('output_data/LatVsMaxTempNorth.png')\n",
    "plt.show()"
   ]
  },
  {
   "cell_type": "markdown",
   "metadata": {},
   "source": [
    "####  Southern Hemisphere - Max Temp vs. Latitude Linear Regression"
   ]
  },
  {
   "cell_type": "code",
   "execution_count": 148,
   "metadata": {},
   "outputs": [
    {
     "name": "stdout",
     "output_type": "stream",
     "text": [
      "The r-value is:0.7314547510526781.\n"
     ]
    },
    {
     "data": {
      "image/png": "[encoded data removed]",
      "text/plain": [
       "<Figure size 432x288 with 1 Axes>"
      ]
     },
     "metadata": {
      "needs_background": "light"
     },
     "output_type": "display_data"
    }
   ],
   "source": [
    "x_values = southern_hemi['Lat']\n",
    "y_values = southern_hemi['Max Temp']\n",
    "(slope, intercept, rvalue, pvalue, stderr) = linregress(x_values, y_values)\n",
    "regress_values = x_values * slope + intercept\n",
    "line_eq = \"y = \" + str(round(slope,2)) + \"x + \" + str(round(intercept,2))\n",
    "plt.plot(x_values,regress_values,\"r-\")\n",
    "plt.annotate(line_eq,(-23,48),fontsize=15,color=\"red\")\n",
    "print(f'The r-value is:{rvalue}.')\n",
    "plt.scatter(southern_hemi['Lat'], southern_hemi['Max Temp'])\n",
    "plt.title('Southern Hemisphere - Max Temp vs. Latitude Linear Regression 8/29/2022')\n",
    "plt.xlabel('Latitude')\n",
    "plt.ylabel('Max Temp')\n",
    "plt.savefig('output_data/LatVsMaxTempSouth.png')\n",
    "plt.show()"
   ]
  },
  {
   "cell_type": "markdown",
   "metadata": {},
   "source": [
    "####  Northern Hemisphere - Humidity (%) vs. Latitude Linear Regression"
   ]
  },
  {
   "cell_type": "code",
   "execution_count": 149,
   "metadata": {},
   "outputs": [
    {
     "name": "stdout",
     "output_type": "stream",
     "text": [
      "The r-value is -0.07922190847376391.\n"
     ]
    },
    {
     "data": {
      "image/png": "[encoded data removed]",
      "text/plain": [
       "<Figure size 432x288 with 1 Axes>"
      ]
     },
     "metadata": {
      "needs_background": "light"
     },
     "output_type": "display_data"
    }
   ],
   "source": [
    "plt.scatter(northern_hemi['Lat'], northern_hemi['Humidity'])\n",
    "x_values = northern_hemi['Lat']\n",
    "y_values = northern_hemi['Humidity']\n",
    "(slope, intercept, rvalue, pvalue, stderr) = linregress(x_values, y_values)\n",
    "regress_values = x_values * slope + intercept\n",
    "line_eq = \"y = \" + str(round(slope,2)) + \"x + \" + str(round(intercept,2))\n",
    "plt.plot(x_values,regress_values,\"r-\")\n",
    "plt.annotate(line_eq,(45,5),fontsize=15,color=\"red\")\n",
    "print(f'The r-value is {rvalue}.')\n",
    "plt.title('Northern Hemisphere - Humidity (%) vs. Latitude Linear Regression 8/29/2022')\n",
    "plt.xlabel('Latitude')\n",
    "plt.ylabel('Humidity')\n",
    "plt.savefig('output_data/LatVsHumidityNorth.png')\n",
    "plt.show()"
   ]
  },
  {
   "cell_type": "markdown",
   "metadata": {},
   "source": [
    "####  Southern Hemisphere - Humidity (%) vs. Latitude Linear Regression"
   ]
  },
  {
   "cell_type": "code",
   "execution_count": 150,
   "metadata": {},
   "outputs": [
    {
     "name": "stdout",
     "output_type": "stream",
     "text": [
      "The r-value is:0.16831112343001212.\n"
     ]
    },
    {
     "data": {
      "image/png": "[encoded data removed]",
      "text/plain": [
       "<Figure size 432x288 with 1 Axes>"
      ]
     },
     "metadata": {
      "needs_background": "light"
     },
     "output_type": "display_data"
    }
   ],
   "source": [
    "x_values = southern_hemi['Lat']\n",
    "y_values = southern_hemi['Humidity']\n",
    "(slope, intercept, rvalue, pvalue, stderr) = linregress(x_values, y_values)\n",
    "regress_values = x_values * slope + intercept\n",
    "line_eq = \"y = \" + str(round(slope,2)) + \"x + \" + str(round(intercept,2))\n",
    "plt.plot(x_values,regress_values,\"r-\")\n",
    "plt.annotate(line_eq,(-23,48),fontsize=15,color=\"red\")\n",
    "print(f'The r-value is:{rvalue}.')\n",
    "plt.scatter(southern_hemi['Lat'], southern_hemi['Humidity'])\n",
    "plt.title('Southern Hemisphere - Humidity (%) vs. Latitude Linear Regression 8/29/2022')\n",
    "plt.xlabel('Latitude')\n",
    "plt.ylabel('Humidity')\n",
    "plt.savefig('output_data/LatVsHumiditySouth.png')\n",
    "plt.show()"
   ]
  },
  {
   "cell_type": "markdown",
   "metadata": {},
   "source": [
    "####  Northern Hemisphere - Cloudiness (%) vs. Latitude Linear Regression"
   ]
  },
  {
   "cell_type": "code",
   "execution_count": 151,
   "metadata": {},
   "outputs": [
    {
     "name": "stdout",
     "output_type": "stream",
     "text": [
      "The r-value is 0.058631473137197465.\n"
     ]
    },
    {
     "data": {
      "image/png": "[encoded data removed]",
      "text/plain": [
       "<Figure size 432x288 with 1 Axes>"
      ]
     },
     "metadata": {
      "needs_background": "light"
     },
     "output_type": "display_data"
    }
   ],
   "source": [
    "plt.scatter(northern_hemi['Lat'], northern_hemi['Cloudiness'])\n",
    "x_values = northern_hemi['Lat']\n",
    "y_values = northern_hemi['Cloudiness']\n",
    "(slope, intercept, rvalue, pvalue, stderr) = linregress(x_values, y_values)\n",
    "regress_values = x_values * slope + intercept\n",
    "line_eq = \"y = \" + str(round(slope,2)) + \"x + \" + str(round(intercept,2))\n",
    "plt.plot(x_values,regress_values,\"r-\")\n",
    "plt.annotate(line_eq,(59,50),fontsize=15,color=\"red\")\n",
    "print(f'The r-value is {rvalue}.')\n",
    "plt.title('Northern Hemisphere - Cloudiness (%) vs. Latitude Linear Regression 8/29/2022')\n",
    "plt.xlabel('Latitude')\n",
    "plt.ylabel('Cloudiness')\n",
    "plt.savefig('output_data/LatVsCloudinessNorth.png')\n",
    "plt.show()"
   ]
  },
  {
   "cell_type": "markdown",
   "metadata": {},
   "source": [
    "####  Southern Hemisphere - Cloudiness (%) vs. Latitude Linear Regression"
   ]
  },
  {
   "cell_type": "code",
   "execution_count": 152,
   "metadata": {},
   "outputs": [
    {
     "name": "stdout",
     "output_type": "stream",
     "text": [
      "The r-value is:0.16136554640211015.\n"
     ]
    },
    {
     "data": {
      "image/png": "[encoded data removed]",
      "text/plain": [
       "<Figure size 432x288 with 1 Axes>"
      ]
     },
     "metadata": {
      "needs_background": "light"
     },
     "output_type": "display_data"
    }
   ],
   "source": [
    "x_values = southern_hemi['Lat']\n",
    "y_values = southern_hemi['Cloudiness']\n",
    "(slope, intercept, rvalue, pvalue, stderr) = linregress(x_values, y_values)\n",
    "regress_values = x_values * slope + intercept\n",
    "line_eq = \"y = \" + str(round(slope,2)) + \"x + \" + str(round(intercept,2))\n",
    "plt.plot(x_values,regress_values,\"r-\")\n",
    "plt.annotate(line_eq,(-55,35),fontsize=15,color=\"red\")\n",
    "print(f'The r-value is:{rvalue}.')\n",
    "plt.scatter(southern_hemi['Lat'], southern_hemi['Cloudiness'])\n",
    "plt.title('Southern Hemisphere - Cloudiness (%) vs. Latitude Linear Regression 8/29/2022')\n",
    "plt.xlabel('Latitude')\n",
    "plt.ylabel('Cloudiness')\n",
    "plt.savefig('output_data/LatVsCloudinessSouth.png')\n",
    "plt.show()"
   ]
  },
  {
   "cell_type": "markdown",
   "metadata": {},
   "source": [
    "####  Northern Hemisphere - Wind Speed (mph) vs. Latitude Linear Regression"
   ]
  },
  {
   "cell_type": "code",
   "execution_count": 153,
   "metadata": {},
   "outputs": [
    {
     "name": "stdout",
     "output_type": "stream",
     "text": [
      "The r-value is 0.23202296905206118.\n"
     ]
    },
    {
     "data": {
      "image/png": "[encoded data removed]",
      "text/plain": [
       "<Figure size 432x288 with 1 Axes>"
      ]
     },
     "metadata": {
      "needs_background": "light"
     },
     "output_type": "display_data"
    }
   ],
   "source": [
    "plt.scatter(northern_hemi['Lat'], northern_hemi['Wind Speed'])\n",
    "x_values = northern_hemi['Lat']\n",
    "y_values = northern_hemi['Wind Speed']\n",
    "(slope, intercept, rvalue, pvalue, stderr) = linregress(x_values, y_values)\n",
    "regress_values = x_values * slope + intercept\n",
    "line_eq = \"y = \" + str(round(slope,2)) + \"x + \" + str(round(intercept,2))\n",
    "plt.plot(x_values,regress_values,\"r-\")\n",
    "plt.annotate(line_eq,(10,30),fontsize=15,color=\"red\")\n",
    "print(f'The r-value is {rvalue}.')\n",
    "plt.title('Northern Hemisphere - Wind Speed (mph) vs. Latitude Linear Regression 8/29/2022')\n",
    "plt.xlabel('Latitude')\n",
    "plt.ylabel('Wind Speed')\n",
    "plt.savefig('output_data/LatVsWindSpeedNorth.png')\n",
    "plt.show()"
   ]
  },
  {
   "cell_type": "markdown",
   "metadata": {},
   "source": [
    "####  Southern Hemisphere - Wind Speed (mph) vs. Latitude Linear Regression"
   ]
  },
  {
   "cell_type": "code",
   "execution_count": 154,
   "metadata": {},
   "outputs": [
    {
     "name": "stdout",
     "output_type": "stream",
     "text": [
      "The r-value is:-0.04188936897578671.\n"
     ]
    },
    {
     "data": {
      "image/png": "[encoded data removed]",
      "text/plain": [
       "<Figure size 432x288 with 1 Axes>"
      ]
     },
     "metadata": {
      "needs_background": "light"
     },
     "output_type": "display_data"
    }
   ],
   "source": [
    "x_values = southern_hemi['Lat']\n",
    "y_values = southern_hemi['Wind Speed']\n",
    "(slope, intercept, rvalue, pvalue, stderr) = linregress(x_values, y_values)\n",
    "regress_values = x_values * slope + intercept\n",
    "line_eq = \"y = \" + str(round(slope,2)) + \"x + \" + str(round(intercept,2))\n",
    "plt.plot(x_values,regress_values,\"r-\")\n",
    "plt.annotate(line_eq,(-55,20),fontsize=15,color=\"red\")\n",
    "print(f'The r-value is:{rvalue}.')\n",
    "plt.scatter(southern_hemi['Lat'], southern_hemi['Wind Speed'])\n",
    "plt.title('Southern Hemisphere - Wind Speed vs. Latitude Linear Regression 8/29/2022')\n",
    "plt.xlabel('Latitude')\n",
    "plt.ylabel('Wind Speed')\n",
    "plt.savefig('output_data/LatVsWindSpeedSouth.png')\n",
    "plt.show()"
   ]
  },
  {
   "cell_type": "code",
   "execution_count": null,
   "metadata": {},
   "outputs": [],
   "source": []
  },
  {
   "cell_type": "code",
   "execution_count": null,
   "metadata": {},
   "outputs": [],
   "source": []
  }
 ],
 "metadata": {
  "anaconda-cloud": {},
  "kernel_info": {
   "name": "python3"
  },
  "kernelspec": {
   "display_name": "Python 3 (ipykernel)",
   "language": "python",
   "name": "python3"
  },
  "language_info": {
   "codemirror_mode": {
    "name": "ipython",
    "version": 3
   },
   "file_extension": ".py",
   "mimetype": "text/x-python",
   "name": "python",
   "nbconvert_exporter": "python",
   "pygments_lexer": "ipython3",
   "version": "3.9.12"
  },
  "latex_envs": {
   "LaTeX_envs_menu_present": true,
   "autoclose": false,
   "autocomplete": true,
   "bibliofile": "biblio.bib",
   "cite_by": "apalike",
   "current_citInitial": 1,
   "eqLabelWithNumbers": true,
   "eqNumInitial": 1,
   "hotkeys": {
    "equation": "Ctrl-E",
    "itemize": "Ctrl-I"
   },
   "labels_anchors": false,
   "latex_user_defs": false,
   "report_style_numbering": false,
   "user_envs_cfg": false
  },
  "nteract": {
   "version": "0.12.3"
  }
 },
 "nbformat": 4,
 "nbformat_minor": 2
}
